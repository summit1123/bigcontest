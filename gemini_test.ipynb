{
 "cells": [
  {
   "cell_type": "code",
   "execution_count": 8,
   "metadata": {},
   "outputs": [],
   "source": [
    "import json\n",
    "import os\n",
    "import re\n",
    "import pandas as pd\n",
    "import numpy as np\n",
    "from sys import argv\n",
    "os.environ['KMP_DUPLICATE_LIB_OK']='TRUE'\n",
    "import google.generativeai as genai \n",
    "import google.ai.generativelanguage as glm\n",
    "from sentence_transformers import SentenceTransformer\n",
    "import typing_extensions as typing\n",
    "import enum"
   ]
  },
  {
   "cell_type": "code",
   "execution_count": 9,
   "metadata": {},
   "outputs": [],
   "source": [
    "with open('./secrets.json') as f:\n",
    "    secrets = json.loads(f.read())\n",
    "GOOGLE_API_KEY = secrets['GOOGLE_API_KEY']\n",
    "genai.configure(api_key=GOOGLE_API_KEY)\n",
    "\n",
    "safe = [\n",
    "    {\n",
    "        \"category\": \"HARM_CATEGORY_HARASSMENT\",\n",
    "        \"threshold\": \"BLOCK_NONE\",\n",
    "    },\n",
    "    {\n",
    "        \"category\": \"HARM_CATEGORY_HATE_SPEECH\",\n",
    "        \"threshold\": \"BLOCK_NONE\",\n",
    "    },\n",
    "    {\n",
    "        \"category\": \"HARM_CATEGORY_SEXUALLY_EXPLICIT\",\n",
    "        \"threshold\": \"BLOCK_NONE\",\n",
    "    },\n",
    "    {\n",
    "        \"category\": \"HARM_CATEGORY_DANGEROUS_CONTENT\",\n",
    "        \"threshold\": \"BLOCK_NONE\",\n",
    "    },\n",
    "]"
   ]
  },
  {
   "cell_type": "code",
   "execution_count": 10,
   "metadata": {},
   "outputs": [],
   "source": [
    "emb_model = SentenceTransformer('jhgan/ko-sroberta-multitask')\n",
    "model = genai.GenerativeModel('gemini-1.5-flash-latest', safety_settings=safe)"
   ]
  },
  {
   "cell_type": "code",
   "execution_count": 33,
   "metadata": {},
   "outputs": [],
   "source": [
    "# 특정 요일 방문 횟수 비중을 나타내는 TypeDict\n",
    "class VisitCountShare(typing.TypedDict):\n",
    "    day: str          # 요일 (예: '월요일')\n",
    "    visit_percentage: float  # 해당 요일의 방문 비중\n",
    "    \n",
    "\n",
    "class Category(enum.Enum):\n",
    "    NONE = \"None\"\n",
    "    Homestyle = \"가정식\"\n",
    "    Chinese = \"중식\"\n",
    "    SingleMenu = \"단품요리 전문점\"\n",
    "    Coffee = \"커피\"\n",
    "    \n",
    "    \n",
    "class Range(enum.Enum):\n",
    "    NONE = \"None\"\n",
    "    Top10Percent = \"상위 10% 미만\"\n",
    "    Top10To25Percent = \"상위 10%이상 25%미만\"\n",
    "    Top25To50Percent = \"상위 25%이상 50%미만\"\n",
    "    Top50To75Percent = \"상위 50%이상 75%미만\"\n",
    "    Top75To90Percent = \"상위 75%이상 90%미만\"\n",
    "    Top90PercentOver = \"상위 90% 초과\"\n",
    "    \n",
    "\n",
    "class orderType(enum.Enum):\n",
    "    NONE = \"None\"\n",
    "    highest = \"highest\"\n",
    "    lowest = \"lowest\"\n",
    "    \n",
    "class filterType(enum.Enum):\n",
    "    NONE = \"None\"\n",
    "    Mon = \"월요일이용비중\"\n",
    "    Tue = \"화요일이용비중\"\n",
    "    Wed = \"수요일이용비중\"\n",
    "    Thu = \"목요일이용비중\"\n",
    "    Fri = \"금요일이용비중\"\n",
    "    Sat = \"토요일이용비중\"\n",
    "    Sun = \"일요일이용비중\"\n",
    "    HR_5_11 = \"5시11시이용건수비중\"\n",
    "    HR_12_13 = \"12시13시이용건수비중\"\n",
    "    HR_14_17 = \"14시17시이용건수비중\"\n",
    "    HR_18_22 = \"18시22시이용건수비중\"\n",
    "    HR_23_4 = \"23시4시이용건수비중\"\n",
    "    Local = \"현지인이용건수비중\"\n",
    "    Mal = \"남성회원수비중\"\n",
    "    Fme = \"여성회원수비중\"\n",
    "    Age_20_Und = \"20대이하회원수비중\"\n",
    "    Age_30 = \"30대회원수비중\"\n",
    "    Age_40 = \"40대회원수비중\"\n",
    "    Age_50 = \"50대회원수비중\"\n",
    "    Age_60_Ovr = \"60대이상회원수비중\"\n",
    "    \n",
    "# 필터와 정렬 정보를 위한 TypedDict\n",
    "class FilterOrder(typing.TypedDict):\n",
    "    filter_type: filterType  # 필터 종류 (예: 요일, 성별 등)\n",
    "    order_type: orderType   # 정렬 타입 (예: 'highest', 'lowest')\n",
    "\n",
    "class Query(typing.TypedDict):\n",
    "    address: str\n",
    "    category: Category\n",
    "    Usage_Count_Range: str\n",
    "    Spending_Amount_Range: str\n",
    "    Average_Spending_Amount_Range: str\n",
    "    # Visit_count_specific: VisitCountShare\n",
    "    # Local_Visitor_Proportion: float\n",
    "    ranking_condition: FilterOrder\n",
    "    \n",
    "    \n",
    "    \n",
    "    \n",
    "    "
   ]
  },
  {
   "cell_type": "code",
   "execution_count": 12,
   "metadata": {},
   "outputs": [
    {
     "name": "stdout",
     "output_type": "stream",
     "text": [
      "['address', 'category', 'Usage_Count_Range', 'Spending_Amount_Range', 'Average_Spending_Amount_Range']\n"
     ]
    }
   ],
   "source": [
    "print(list(Query.__annotations__.keys())[:-1])"
   ]
  },
  {
   "cell_type": "code",
   "execution_count": 51,
   "metadata": {},
   "outputs": [
    {
     "name": "stdout",
     "output_type": "stream",
     "text": [
      "[{\"address\": \"제주시 노형동\", \"category\": \"단품요리 전문점\", \"ranking_condition\": {\"filter_type\": \"토요일이용비중\", \"order_type\": \"lowest\"  \n",
      "  }}, {\"Usage_Count_Range\": \"상위 15%\", \"ranking_condition\": {\"filter_type\": \"None\", \"order_type\": \"None\"  \n",
      "  }}, {\"Average_Spending_Amount_Range\": \"상위 20%\", \"ranking_condition\": {\"filter_type\": \"None\", \"order_type\": \"None\"  \n",
      "  }}, {\"Spending_Amount_Range\": \"상위 80%\", \"ranking_condition\": {\"filter_type\": \"None\", \"order_type\": \"None\"  \n",
      "  }}]\n",
      "\n",
      "객체 개수 4\n",
      "{'address': '제주시 노형동', 'category': '단품요리 전문점', 'ranking_condition': {'filter_type': '토요일이용비중', 'order_type': 'lowest'}}\n",
      "{'Usage_Count_Range': '상위 15%', 'ranking_condition': {'filter_type': 'None', 'order_type': 'None'}}\n"
     ]
    }
   ],
   "source": [
    "chat = model.start_chat(history=[])\n",
    "question = \"제주시 노형동에 있는 단품요리 전문점 중 이용건수가 상위 15%에 속하고 건당평균이용금액구간이 상위 20%에 속하면서 소비구간이 상위 80%이고 토요일 이용비중이 제일 낮은곳은?\"\n",
    "# question = \"제주시 상모리에 짜장면집 추천해주라\"\n",
    "prompt = f\"다음 질문에서 요구사항을 보고 모든 항목({list(Query.__annotations__.keys())[:-1]})을 반드시 출력해라. ranking_condition는 없을 수도 있으며, 오직 순위를 나타내는 조건(가장 큰것, 가장 작은것)에만 해당한다. 주소는 질문에서 찾는다. 모르는 내용을 넣지 마라.\\n질문: {question}\"\n",
    "\n",
    "response = chat.send_message(prompt, generation_config=genai.GenerationConfig(\n",
    "        response_mime_type=\"application/json\", response_schema=list[Query]\n",
    "    ),)\n",
    "# print(response)\n",
    "output = response.parts[0].text\n",
    "print(output)\n",
    "json_datas = json.loads(response.parts[0].text)\n",
    "print(\"객체 개수\", len(json_datas))\n",
    "if len(json_datas) > 1:\n",
    "    print(json_datas[0])\n",
    "    print(json_datas[1])"
   ]
  },
  {
   "cell_type": "code",
   "execution_count": 14,
   "metadata": {},
   "outputs": [
    {
     "ename": "IndexError",
     "evalue": "list index out of range",
     "output_type": "error",
     "traceback": [
      "\u001b[1;31m---------------------------------------------------------------------------\u001b[0m",
      "\u001b[1;31mIndexError\u001b[0m                                Traceback (most recent call last)",
      "Cell \u001b[1;32mIn[14], line 1\u001b[0m\n\u001b[1;32m----> 1\u001b[0m \u001b[38;5;28mprint\u001b[39m(\u001b[43mjson_datas\u001b[49m\u001b[43m[\u001b[49m\u001b[38;5;241;43m2\u001b[39;49m\u001b[43m]\u001b[49m)\n",
      "\u001b[1;31mIndexError\u001b[0m: list index out of range"
     ]
    }
   ],
   "source": [
    "# print(json_datas[2])"
   ]
  },
  {
   "cell_type": "code",
   "execution_count": 53,
   "metadata": {},
   "outputs": [],
   "source": [
    "def merge_dicts(dicts):\n",
    "    merged = {}\n",
    "\n",
    "    for d in dicts:\n",
    "        for key, value in d.items():\n",
    "            if key == \"ranking_condition\" and key in merged:\n",
    "                # ranking_condition의 filter_type이 None인 경우 넘어가고, 아니면 덮어씀\n",
    "                if value[\"filter_type\"] != \"None\":\n",
    "                    merged[key].update(value)\n",
    "            else:\n",
    "                # 다른 경우는 그냥 덮어씀\n",
    "                merged[key] = value\n",
    "\n",
    "    return merged"
   ]
  },
  {
   "cell_type": "code",
   "execution_count": 54,
   "metadata": {},
   "outputs": [
    {
     "name": "stdout",
     "output_type": "stream",
     "text": [
      "{'address': '제주시 노형동', 'category': '단품요리 전문점', 'ranking_condition': {'filter_type': '토요일이용비중', 'order_type': 'lowest'}, 'Usage_Count_Range': '상위 15%', 'Average_Spending_Amount_Range': '상위 20%', 'Spending_Amount_Range': '상위 80%'}\n"
     ]
    }
   ],
   "source": [
    "json_data = json.loads(response.parts[0].text)\n",
    "result = merge_dicts(json_data)\n",
    "print(result)"
   ]
  },
  {
   "cell_type": "code",
   "execution_count": 52,
   "metadata": {},
   "outputs": [
    {
     "name": "stdout",
     "output_type": "stream",
     "text": [
      "{'address': '제주시 노형동', 'category': '단품요리 전문점', 'ranking_condition': {'filter_type': 'None', 'order_type': 'None'}, 'Usage_Count_Range': '상위 15%', 'Average_Spending_Amount_Range': '상위 20%', 'Spending_Amount_Range': '상위 80%'}\n"
     ]
    }
   ],
   "source": [
    "# json_data = json.loads(response.parts[0].text)\n",
    "# merge_dict = {}\n",
    "# for data in json_data:\n",
    "#     merge_dict.update(data)\n",
    "# print(merge_dict)"
   ]
  },
  {
   "cell_type": "code",
   "execution_count": 9,
   "metadata": {},
   "outputs": [
    {
     "name": "stdout",
     "output_type": "stream",
     "text": [
      "Expected a dictionary but got <class 'str'>\n"
     ]
    }
   ],
   "source": [
    "try:\n",
    "    result = merge_dicts(output)\n",
    "    print(result)\n",
    "except ValueError as e:\n",
    "    print(e)"
   ]
  },
  {
   "cell_type": "code",
   "execution_count": 10,
   "metadata": {},
   "outputs": [
    {
     "name": "stdout",
     "output_type": "stream",
     "text": [
      "[{\"Usage_Count_Range\": \"상위 10%\", \"Visit_count_specific\": {\"day\": \"토요일\", \"visit_percentage\": 1.23}, \"category\": \"단품요리 전문점\", \"ranking_condition\": {\"filter_type\": \"토요일이용비중\", \"order_type\": \"lowest\" }}, {\"Average_Spending_Amount_Range\": \"상위 20%\", \"address\": \"제주시 노형동\", \"category\": \"단품요리 전문점\", \"ranking_condition\": {\"filter_type\": \"토요일이용비중\", \"order_type\": \"lowest\" }}]\n",
      "\n",
      "response:\n",
      "GenerateContentResponse(\n",
      "    done=True,\n",
      "    iterator=None,\n",
      "    result=protos.GenerateContentResponse({\n",
      "      \"candidates\": [\n",
      "        {\n",
      "          \"content\": {\n",
      "            \"parts\": [\n",
      "              {\n",
      "                \"text\": \"[{\\\"Usage_Count_Range\\\": \\\"\\uc0c1\\uc704 10%\\\", \\\"Visit_count_specific\\\": {\\\"day\\\": \\\"\\ud1a0\\uc694\\uc77c\\\", \\\"visit_percentage\\\": 1.23}, \\\"category\\\": \\\"\\ub2e8\\ud488\\uc694\\ub9ac \\uc804\\ubb38\\uc810\\\", \\\"ranking_condition\\\": {\\\"filter_type\\\": \\\"\\ud1a0\\uc694\\uc77c\\uc774\\uc6a9\\ube44\\uc911\\\", \\\"order_type\\\": \\\"lowest\\\" }}, {\\\"Average_Spending_Amount_Range\\\": \\\"\\uc0c1\\uc704 20%\\\", \\\"address\\\": \\\"\\uc81c\\uc8fc\\uc2dc \\ub178\\ud615\\ub3d9\\\", \\\"category\\\": \\\"\\ub2e8\\ud488\\uc694\\ub9ac \\uc804\\ubb38\\uc810\\\", \\\"ranking_condition\\\": {\\\"filter_type\\\": \\\"\\ud1a0\\uc694\\uc77c\\uc774\\uc6a9\\ube44\\uc911\\\", \\\"order_type\\\": \\\"lowest\\\" }}]\\n\"\n",
      "              }\n",
      "            ],\n",
      "            \"role\": \"model\"\n",
      "          },\n",
      "          \"finish_reason\": \"STOP\",\n",
      "          \"index\": 0,\n",
      "          \"safety_ratings\": [\n",
      "            {\n",
      "              \"category\": \"HARM_CATEGORY_SEXUALLY_EXPLICIT\",\n",
      "              \"probability\": \"NEGLIGIBLE\"\n",
      "            },\n",
      "            {\n",
      "              \"category\": \"HARM_CATEGORY_HATE_SPEECH\",\n",
      "              \"probability\": \"NEGLIGIBLE\"\n",
      "            },\n",
      "            {\n",
      "              \"category\": \"HARM_CATEGORY_HARASSMENT\",\n",
      "              \"probability\": \"NEGLIGIBLE\"\n",
      "            },\n",
      "            {\n",
      "              \"category\": \"HARM_CATEGORY_DANGEROUS_CONTENT\",\n",
      "              \"probability\": \"NEGLIGIBLE\"\n",
      "            }\n",
      "          ]\n",
      "        }\n",
      "      ],\n",
      "      \"usage_metadata\": {\n",
      "        \"prompt_token_count\": 192,\n",
      "        \"candidates_token_count\": 149,\n",
      "        \"total_token_count\": 341\n",
      "      }\n",
      "    }),\n",
      ")\n"
     ]
    }
   ],
   "source": [
    "output = response.parts[0].text\n",
    "print(output)\n",
    "print(response)"
   ]
  }
 ],
 "metadata": {
  "kernelspec": {
   "display_name": "llm",
   "language": "python",
   "name": "python3"
  },
  "language_info": {
   "codemirror_mode": {
    "name": "ipython",
    "version": 3
   },
   "file_extension": ".py",
   "mimetype": "text/x-python",
   "name": "python",
   "nbconvert_exporter": "python",
   "pygments_lexer": "ipython3",
   "version": "3.10.14"
  }
 },
 "nbformat": 4,
 "nbformat_minor": 2
}
