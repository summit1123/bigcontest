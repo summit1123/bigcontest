{
 "cells": [
  {
   "cell_type": "code",
   "execution_count": 1,
   "metadata": {},
   "outputs": [
    {
     "name": "stderr",
     "output_type": "stream",
     "text": [
      "d:\\Anaconda\\envs\\llm\\lib\\site-packages\\tqdm\\auto.py:21: TqdmWarning: IProgress not found. Please update jupyter and ipywidgets. See https://ipywidgets.readthedocs.io/en/stable/user_install.html\n",
      "  from .autonotebook import tqdm as notebook_tqdm\n"
     ]
    }
   ],
   "source": [
    "import json\n",
    "import os\n",
    "import re\n",
    "import pandas as pd\n",
    "import numpy as np\n",
    "from sys import argv\n",
    "os.environ['KMP_DUPLICATE_LIB_OK']='TRUE'\n",
    "import google.generativeai as genai \n",
    "import google.ai.generativelanguage as glm\n",
    "from sentence_transformers import SentenceTransformer\n",
    "import typing_extensions as typing\n",
    "import enum"
   ]
  },
  {
   "cell_type": "code",
   "execution_count": 2,
   "metadata": {},
   "outputs": [],
   "source": [
    "with open('./secrets.json') as f:\n",
    "    secrets = json.loads(f.read())\n",
    "GOOGLE_API_KEY = secrets['GOOGLE_API_KEY']\n",
    "genai.configure(api_key=GOOGLE_API_KEY)\n",
    "\n",
    "safe = [\n",
    "    {\n",
    "        \"category\": \"HARM_CATEGORY_HARASSMENT\",\n",
    "        \"threshold\": \"BLOCK_NONE\",\n",
    "    },\n",
    "    {\n",
    "        \"category\": \"HARM_CATEGORY_HATE_SPEECH\",\n",
    "        \"threshold\": \"BLOCK_NONE\",\n",
    "    },\n",
    "    {\n",
    "        \"category\": \"HARM_CATEGORY_SEXUALLY_EXPLICIT\",\n",
    "        \"threshold\": \"BLOCK_NONE\",\n",
    "    },\n",
    "    {\n",
    "        \"category\": \"HARM_CATEGORY_DANGEROUS_CONTENT\",\n",
    "        \"threshold\": \"BLOCK_NONE\",\n",
    "    },\n",
    "]"
   ]
  },
  {
   "cell_type": "code",
   "execution_count": 3,
   "metadata": {},
   "outputs": [],
   "source": [
    "matching_keys = {\n",
    "    '월요일이용비중': 'MON_UE_CNT_RAT',\n",
    "    '화요일이용비중': 'TUE_UE_CNT_RAT',\n",
    "    '수요일이용비중': 'WED_UE_CNT_RAT',\n",
    "    '목요일이용비중': 'THU_UE_CNT_RAT',\n",
    "    '금요일이용비중': 'FRI_UE_CNT_RAT',\n",
    "    '토요일이용비중': 'SAT_UE_CNT_RAT',\n",
    "    '일요일이용비중': 'SUN_UE_CNT_RAT',\n",
    "    '5시~11시이용비중': 'HR_5_11_UE_CNT_RAT',\n",
    "    '12시~13시이용비중': 'HR_12_13_UE_CNT_RAT',\n",
    "    '14시~17시이용비중': 'HR_14_17_UE_CNT_RAT',\n",
    "    '18시~22시이용비중': 'HR_18_22_UE_CNT_RAT',\n",
    "    '23시~4시이용비중': 'HR_23_4_UE_CNT_RAT',\n",
    "    '현지인이용건수비중': 'LOCAL_UE_CNT_RAT',\n",
    "    '남성회원수비중': 'RC_M12_MAL_CUS_CNT_RAT',\n",
    "    '여성회원수비중': 'RC_M12_FME_CUS_CNT_RAT',\n",
    "    '20대이하회원수비중': 'RC_M12_AGE_UND_20_CUS_CNT_RAT',\n",
    "    '30대회원수비중': 'RC_M12_AGE_30_CUS_CNT_RAT',\n",
    "    '40대회원수비중': 'RC_M12_AGE_40_CUS_CNT_RAT',\n",
    "    '50대회원수비중': 'RC_M12_AGE_50_CUS_CNT_RAT',\n",
    "    '60대이상회원수비중': 'RC_M12_AGE_OVR_60_CUS_CNT_RAT'\n",
    "}"
   ]
  },
  {
   "cell_type": "code",
   "execution_count": 4,
   "metadata": {},
   "outputs": [
    {
     "name": "stderr",
     "output_type": "stream",
     "text": [
      "d:\\Anaconda\\envs\\llm\\lib\\site-packages\\transformers\\tokenization_utils_base.py:1601: FutureWarning: `clean_up_tokenization_spaces` was not set. It will be set to `True` by default. This behavior will be depracted in transformers v4.45, and will be then set to `False` by default. For more details check this issue: https://github.com/huggingface/transformers/issues/31884\n",
      "  warnings.warn(\n"
     ]
    }
   ],
   "source": [
    "emb_model = SentenceTransformer('jhgan/ko-sroberta-multitask')\n",
    "model = genai.GenerativeModel('gemini-1.5-flash-latest', safety_settings=safe)\n",
    "csv_file_path = \"final_coordinates_2.csv\"\n",
    "df = pd.read_csv(os.path.join('./data', csv_file_path),encoding='cp949')"
   ]
  },
  {
   "cell_type": "code",
   "execution_count": 72,
   "metadata": {},
   "outputs": [],
   "source": [
    "# 특정 요일 방문 횟수 비중을 나타내는 TypeDict\n",
    "class VisitCountShare(typing.TypedDict):\n",
    "    day: str          # 요일 (예: '월요일')\n",
    "    visit_percentage: float  # 해당 요일의 방문 비중\n",
    "    \n",
    "\n",
    "class Category(enum.Enum):\n",
    "    NONE = \"None\"\n",
    "    Homestyle = \"가정식\"\n",
    "    Chinese = \"중식\"\n",
    "    SingleMenu = \"단품요리 전문점\"\n",
    "    Coffee = \"커피\"\n",
    "    IceCream = \"아이스크림/빙수\"\n",
    "    Pizza = \"피자\"\n",
    "    Western = \"양식\"\n",
    "    Chicken = \"치킨\"\n",
    "    Japanese = \"일식\"\n",
    "    BeerAndPub = \"맥주/요리주점\"\n",
    "    Sandwich = \"샌드위치/토스트\"\n",
    "    LunchBox = \"도시락\"\n",
    "    Bakery = \"베이커리\"\n",
    "    KoreanSnacks = \"분식\"\n",
    "    Skewers = \"꼬치구이\"\n",
    "    Tea = \"차\"\n",
    "    Steak = \"스테이크\"\n",
    "    Cafeteria = \"구내식당/푸드코트\"\n",
    "    AsianIndian = \"동남아/인도음식\"\n",
    "    Hamburger = \"햄버거\"\n",
    "    Ricecake = \"떡/한과\"\n",
    "    FoodTruck = \"포장마차\"\n",
    "    Juice = \"주스\"\n",
    "    TraditionalPub = \"민속주점\"\n",
    "    Buffet = \"부페\"\n",
    "    WorldCuisine = \"기타세계요리\"\n",
    "    Donut = \"도너츠\"\n",
    "    TransportCafe = \"기사식당\"\n",
    "    NightSnack = \"야식\"\n",
    "    FamilyRestaurant = \"패밀리 레스토랑\"\n",
    "    \n",
    "# Enum은 이름이 아니라 내용을 보고 구분하는듯. 아마 직접 소비건수 상위 ... 이런식으로 하면 알아먹긴할듯\n",
    "class Range(enum.Enum):\n",
    "    NONE = \"None\"\n",
    "    Top10Percent = \"상위 10% 미만\"\n",
    "    Top10To25Percent = \"상위 10%이상 25%미만\"\n",
    "    Top25To50Percent = \"상위 25%이상 50%미만\"\n",
    "    Top50To75Percent = \"상위 50%이상 75%미만\"\n",
    "    Top75To90Percent = \"상위 75%이상 90%미만\"\n",
    "    Top90PercentOver = \"상위 90% 초과\"\n",
    "    \n",
    "\n",
    "class orderType(enum.Enum):\n",
    "    NONE = \"None\"\n",
    "    highest = \"highest\"\n",
    "    lowest = \"lowest\"\n",
    "    \n",
    "class filterType(enum.Enum):\n",
    "    NONE = \"None\"\n",
    "    Mon = \"월요일이용비중\"\n",
    "    Tue = \"화요일이용비중\"\n",
    "    Wed = \"수요일이용비중\"\n",
    "    Thu = \"목요일이용비중\"\n",
    "    Fri = \"금요일이용비중\"\n",
    "    Sat = \"토요일이용비중\"\n",
    "    Sun = \"일요일이용비중\"\n",
    "    HR_5_11 = \"5시11시이용건수비중\"\n",
    "    HR_12_13 = \"12시13시이용건수비중\"\n",
    "    HR_14_17 = \"14시17시이용건수비중\"\n",
    "    HR_18_22 = \"18시22시이용건수비중\"\n",
    "    HR_23_4 = \"23시4시이용건수비중\"\n",
    "    Local = \"현지인이용건수비중\"\n",
    "    Mal = \"남성회원수비중\"\n",
    "    Fme = \"여성회원수비중\"\n",
    "    Age_20_Und = \"20대이하회원수비중\"\n",
    "    Age_30 = \"30대회원수비중\"\n",
    "    Age_40 = \"40대회원수비중\"\n",
    "    Age_50 = \"50대회원수비중\"\n",
    "    Age_60_Ovr = \"60대이상회원수비중\"\n",
    "    \n",
    "# 필터와 정렬 정보를 위한 TypedDict\n",
    "class FilterOrder(typing.TypedDict):\n",
    "    filter_type: filterType  # 필터 종류 (예: 요일, 성별 등)\n",
    "    order_type: orderType   # 정렬 타입 (예: 'highest', 'lowest')\n",
    "\n",
    "class Query(typing.TypedDict):\n",
    "    is_recommend: typing.Required[bool]\n",
    "    address: str\n",
    "    category: Category\n",
    "    Usage_Count_Range: str\n",
    "    Spending_Amount_Range: str\n",
    "    Average_Spending_Amount_Range: str # Range쓰면 분류 잘못함.\n",
    "    # Visit_count_specific: VisitCountShare\n",
    "    # Local_Visitor_Proportion: float\n",
    "    ranking_condition: FilterOrder\n",
    "    \n",
    "    \n",
    "    \n",
    "    \n",
    "    "
   ]
  },
  {
   "cell_type": "code",
   "execution_count": 73,
   "metadata": {},
   "outputs": [
    {
     "name": "stdout",
     "output_type": "stream",
     "text": [
      "['is_recommend', 'address', 'category', 'Usage_Count_Range', 'Spending_Amount_Range', 'Average_Spending_Amount_Range']\n"
     ]
    }
   ],
   "source": [
    "print(list(Query.__annotations__.keys())[:-1])"
   ]
  },
  {
   "cell_type": "code",
   "execution_count": 89,
   "metadata": {},
   "outputs": [
    {
     "name": "stdout",
     "output_type": "stream",
     "text": [
      "[{\"Usage_Count_Range\": \"이용건수 상위 15%\", \"address\": \"제주시 한림읍\", \"category\": \"베이커리\", \"is_recommend\": false, \"ranking_condition\": {\"filter_type\": \"30대회원수비중\", \"order_type\": \"highest\"}}]\n",
      "\n",
      "객체 개수 1\n"
     ]
    }
   ],
   "source": [
    "# 고민할점. 대체로 많은 데이터가 뽑혔을때가 정확하다. 소수의 데이터의 정보는 무시할만 하지 않나(덮기)\n",
    "chat = model.start_chat(history=[])\n",
    "# question = \"제주시 노형동에 있는 단품요리 전문점 중 이용건수가 상위 15%에 속하고 건당평균이용금액구간이 상위 20%에 속하면서 소비구간이 상위 80%이고 토요일 이용비중이 제일 낮은곳은?\"\n",
    "# question = \"지금 공항앞인데 뭐 먹을거 없니?\"\n",
    "# question = \"중문 숙성도처럼 숙성 고기 파는데 웨이팅은 적은 식당 있을까?\"\n",
    "# question = \"서귀포시에 국밥집 괜찮은거 있나\"\n",
    "question = \"제주시 한림읍에 있는 빵집 중 이용건수가 상위 15%에 속하고, 30대 이용 비중이 가장 높은 곳은?\"\n",
    "prompt = f\"\"\"질문에서 요구사항을 보고 JSON의 모든 항목(is_recommend, 주소, 업종, 이용건수구간, 이용금액구간, 건당평균이용금액구간)을 반드시 반환하라\\n\n",
    "        각 필드의 대한 설명이다. address:주소(예. 제주시 ㅁㅁ읍),    category:업종,   Usage_Count_Range:이용건수구간(예. 이용건수 상위 N%),  Spending_Amount_Range:이용금액구간(예. 이용금액구간 상위 N%),\n",
    "        Average_Spending_Amount_Range:건당평균이용금액구간(예. 건당평균이용금액 상위 N%), is_recommend:(어떤식당을 추천해달라는 건가(True), 조건에 따른 검색인가(False))\\n\n",
    "        ranking_condition는 없을 수도 있으며, 오직 순위를 나타내는 조건(가장 큰것, 가장 작은것)에만 해당한다. \n",
    "        \\n질문: {question}\"\"\"\n",
    "\n",
    "response = chat.send_message(prompt, generation_config=genai.GenerationConfig(\n",
    "        response_mime_type=\"application/json\", response_schema=list[Query]\n",
    "    ), )\n",
    "# print(response)\n",
    "output = response.parts[0].text\n",
    "print(output)\n",
    "json_datas = json.loads(response.parts[0].text)\n",
    "print(\"객체 개수\", len(json_datas))\n",
    "if len(json_datas) > 1:\n",
    "    print(json_datas[0])\n",
    "    print(json_datas[1])"
   ]
  },
  {
   "cell_type": "code",
   "execution_count": 8,
   "metadata": {},
   "outputs": [],
   "source": [
    "# print(json_datas[2])"
   ]
  },
  {
   "cell_type": "code",
   "execution_count": 9,
   "metadata": {},
   "outputs": [],
   "source": [
    "def merge_dicts(dicts):\n",
    "    merged = {}\n",
    "\n",
    "    for d in dicts:\n",
    "        for key, value in d.items():\n",
    "            if key == \"ranking_condition\" and key in merged:\n",
    "                # ranking_condition의 filter_type이 None인 경우 넘어가고, 아니면 덮어씀\n",
    "                if not value.get(\"filter_type\"):\n",
    "                    continue\n",
    "                if value[\"filter_type\"] != \"None\":\n",
    "                    merged[key].update(value)\n",
    "            else:\n",
    "                # 다른 경우는 그냥 덮어씀\n",
    "                merged[key] = value\n",
    "\n",
    "    return merged"
   ]
  },
  {
   "cell_type": "code",
   "execution_count": 90,
   "metadata": {},
   "outputs": [
    {
     "name": "stdout",
     "output_type": "stream",
     "text": [
      "{'Usage_Count_Range': '이용건수 상위 15%', 'address': '제주시 한림읍', 'category': '베이커리', 'is_recommend': False, 'ranking_condition': {'filter_type': '30대회원수비중', 'order_type': 'highest'}}\n"
     ]
    }
   ],
   "source": [
    "json_data = json.loads(response.parts[0].text)\n",
    "result = merge_dicts(json_data)\n",
    "print(result)"
   ]
  },
  {
   "cell_type": "code",
   "execution_count": 11,
   "metadata": {},
   "outputs": [],
   "source": [
    "# 상위 퍼센트 값(예: 14%, 79% 등)을 주어진 구간에 맞게 변환하는 함수\n",
    "def map_to_group(raw_percentage):\n",
    "    \"\"\"\n",
    "    사용자의 입력 퍼센티지 값을  구간으로 변환\n",
    "    Args:\n",
    "        percentage (float): 상위 퍼센티지 값 (예: 14.5, 79 등)\n",
    "\n",
    "    Returns:\n",
    "        str: 변환된 구간 값\n",
    "    \"\"\"\n",
    "    if raw_percentage is None:\n",
    "        return None\n",
    "    \n",
    "    pattern = r\"(?:상위\\s*)?([\\d\\.]+)%\"\n",
    "    match = re.search(pattern, raw_percentage)\n",
    "    if match:\n",
    "        percentage = float(match.group(1))\n",
    "    else:\n",
    "        return None\n",
    "    \n",
    "    output = None\n",
    "    if 0 <= percentage < 10:\n",
    "        output = '1_상위10%이하'\n",
    "    elif 10 <= percentage < 25:\n",
    "        output = '2_10~25%'\n",
    "    elif 25 <= percentage < 50:\n",
    "        output = '3_25~50%'\n",
    "    elif 50 <= percentage < 75:\n",
    "        output = '4_50~75%'\n",
    "    elif 75 <= percentage < 90:\n",
    "        output =  '5_75~90%'\n",
    "    elif 90 <= percentage <= 100:\n",
    "        output = '6_90% 초과(하위 10% 이하)'\n",
    "    print(f\"{raw_percentage}->{output}\")\n",
    "    return output\n",
    "    "
   ]
  },
  {
   "cell_type": "code",
   "execution_count": 94,
   "metadata": {},
   "outputs": [],
   "source": [
    "def filtering(dic):\n",
    "    \"\"\"일반 검색 대응\n",
    "\n",
    "    Args:\n",
    "        dic (dict): Json에서 가공된 Dictionary 데이터\n",
    "\n",
    "    Returns:\n",
    "        output (str): 출력할 텍스트\n",
    "    \"\"\"\n",
    "    # 일반 쿼리 대응\n",
    "    addr = dic.get(\"address\", None)\n",
    "    mct_type = dic.get(\"category\", None)\n",
    "    ranking_condition = dic.get('ranking_condition', {})\n",
    "    filter_type = ranking_condition.get('filter_type', None)\n",
    "    order_type = ranking_condition.get('order_type', None)\n",
    "    \n",
    "    # 형식 변환\n",
    "    usage_Count_Range = map_to_group(dic.get(\"Usage_Count_Range\", None))\n",
    "    spending_Amount_Range = map_to_group(dic.get(\"Spending_Amount_Range\", None))\n",
    "    average_Spending_Amount_Range = map_to_group(dic.get(\"Average_Spending_Amount_Range\", None))\n",
    "    \n",
    "    # 필터링\n",
    "    conditions = []\n",
    "    if addr is not None:\n",
    "        conditions.append(df['ADDR'].str.contains(addr, na=False))\n",
    "    if mct_type is not None:\n",
    "        conditions.append(df['MCT_TYPE'].str.contains(mct_type, na=False))\n",
    "    if usage_Count_Range is not None:\n",
    "        conditions.append(df['UE_CNT_GRP'] == usage_Count_Range)\n",
    "    if spending_Amount_Range is not None:\n",
    "        conditions.append(df['UE_AMT_GRP'] == spending_Amount_Range)\n",
    "    if average_Spending_Amount_Range is not None:\n",
    "        conditions.append(df['UE_AMT_PER_TRSN_GRP'] == average_Spending_Amount_Range)\n",
    "        \n",
    "    if conditions:\n",
    "        filtered_df = df.loc[pd.concat(conditions, axis=1).all(axis=1)]\n",
    "    \n",
    "    if filter_type != \"None\" and order_type != \"None\":\n",
    "        is_ascending = (order_type == \"lowest\")\n",
    "        filtered_df = filtered_df.sort_values(by=matching_keys.get(filter_type, None), ascending=is_ascending)\n",
    "    \n",
    "    output = None\n",
    "    if len(filtered_df) == 0:\n",
    "        output = \"검색 결과가 없습니다.\"\n",
    "    else:\n",
    "        output = f\"# 조건에 해당하는 식당을 찾았습니다.\\n식당명: {filtered_df.iloc[0]['MCT_NM']}\\n주소: {filtered_df.iloc[0]['ADDR']}\"\n",
    "    \n",
    "    return output\n",
    "    "
   ]
  },
  {
   "cell_type": "code",
   "execution_count": 87,
   "metadata": {},
   "outputs": [],
   "source": [
    "def generate_prompt_from_json(law_data):\n",
    "    # 받은 Json 데이터를 병합하고 질문 보완 프롬프트 생성(텍스트)\n",
    "    dic = merge_dicts(json.loads(response.parts[0].text))\n",
    "\n",
    "    # is_recommend 로 추천인지 검색인지 확인. 검색인것만 확실하면 2번 검색도 가능할것.\n",
    "    if not dic.get(\"is_recommend\", False):\n",
    "        return filtering(dic)\n",
    "    # 추천방식. 정확도가 필요없다. 아마 여기에 나이대, 성별 가중치를 적용할것(프롬프트로?)\n",
    "    # 고민할점. 함수 호출 on/off가 상시로 가능한가.\n",
    "    \n",
    "    "
   ]
  },
  {
   "cell_type": "code",
   "execution_count": 93,
   "metadata": {},
   "outputs": [
    {
     "name": "stdout",
     "output_type": "stream",
     "text": [
      "이용건수 상위 15%->2_10~25%\n",
      "# 조건에 해당하는 식당을 찾았습니다.\n",
      "식당명: 집의기록1\n",
      "주소: 제주 제주시 한림읍 귀덕리 951-1번지\n"
     ]
    }
   ],
   "source": [
    "print(generate_prompt_from_json(result))"
   ]
  },
  {
   "cell_type": "code",
   "execution_count": 95,
   "metadata": {},
   "outputs": [
    {
     "name": "stdout",
     "output_type": "stream",
     "text": [
      "[{\"Usage_Count_Range\": \"이용건수 상위 15%\", \"address\": \"제주시 한림읍\", \"category\": \"베이커리\", \"is_recommend\": false, \"ranking_condition\": {\"filter_type\": \"30대회원수비중\", \"order_type\": \"highest\"}}]\n",
      "\n",
      "response:\n",
      "GenerateContentResponse(\n",
      "    done=True,\n",
      "    iterator=None,\n",
      "    result=protos.GenerateContentResponse({\n",
      "      \"candidates\": [\n",
      "        {\n",
      "          \"content\": {\n",
      "            \"parts\": [\n",
      "              {\n",
      "                \"text\": \"[{\\\"Usage_Count_Range\\\": \\\"\\uc774\\uc6a9\\uac74\\uc218 \\uc0c1\\uc704 15%\\\", \\\"address\\\": \\\"\\uc81c\\uc8fc\\uc2dc \\ud55c\\ub9bc\\uc74d\\\", \\\"category\\\": \\\"\\ubca0\\uc774\\ucee4\\ub9ac\\\", \\\"is_recommend\\\": false, \\\"ranking_condition\\\": {\\\"filter_type\\\": \\\"30\\ub300\\ud68c\\uc6d0\\uc218\\ube44\\uc911\\\", \\\"order_type\\\": \\\"highest\\\"}}]\\n\"\n",
      "              }\n",
      "            ],\n",
      "            \"role\": \"model\"\n",
      "          },\n",
      "          \"finish_reason\": \"STOP\",\n",
      "          \"index\": 0,\n",
      "          \"safety_ratings\": [\n",
      "            {\n",
      "              \"category\": \"HARM_CATEGORY_SEXUALLY_EXPLICIT\",\n",
      "              \"probability\": \"NEGLIGIBLE\"\n",
      "            },\n",
      "            {\n",
      "              \"category\": \"HARM_CATEGORY_HATE_SPEECH\",\n",
      "              \"probability\": \"NEGLIGIBLE\"\n",
      "            },\n",
      "            {\n",
      "              \"category\": \"HARM_CATEGORY_HARASSMENT\",\n",
      "              \"probability\": \"NEGLIGIBLE\"\n",
      "            },\n",
      "            {\n",
      "              \"category\": \"HARM_CATEGORY_DANGEROUS_CONTENT\",\n",
      "              \"probability\": \"NEGLIGIBLE\"\n",
      "            }\n",
      "          ]\n",
      "        }\n",
      "      ],\n",
      "      \"usage_metadata\": {\n",
      "        \"prompt_token_count\": 287,\n",
      "        \"candidates_token_count\": 75,\n",
      "        \"total_token_count\": 362\n",
      "      }\n",
      "    }),\n",
      ")\n"
     ]
    }
   ],
   "source": [
    "output = response.parts[0].text\n",
    "print(output)\n",
    "print(response)"
   ]
  }
 ],
 "metadata": {
  "kernelspec": {
   "display_name": "llm",
   "language": "python",
   "name": "python3"
  },
  "language_info": {
   "codemirror_mode": {
    "name": "ipython",
    "version": 3
   },
   "file_extension": ".py",
   "mimetype": "text/x-python",
   "name": "python",
   "nbconvert_exporter": "python",
   "pygments_lexer": "ipython3",
   "version": "3.10.14"
  }
 },
 "nbformat": 4,
 "nbformat_minor": 2
}
