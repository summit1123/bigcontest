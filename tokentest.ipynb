{
 "cells": [
  {
   "cell_type": "code",
   "execution_count": 1,
   "metadata": {},
   "outputs": [
    {
     "name": "stderr",
     "output_type": "stream",
     "text": [
      "d:\\Anaconda\\envs\\llm\\lib\\site-packages\\tqdm\\auto.py:21: TqdmWarning: IProgress not found. Please update jupyter and ipywidgets. See https://ipywidgets.readthedocs.io/en/stable/user_install.html\n",
      "  from .autonotebook import tqdm as notebook_tqdm\n"
     ]
    }
   ],
   "source": [
    "import google.generativeai as genai\n",
    "import json"
   ]
  },
  {
   "cell_type": "code",
   "execution_count": 2,
   "metadata": {},
   "outputs": [],
   "source": [
    "with open('./secrets.json') as f:\n",
    "    secrets = json.loads(f.read())\n",
    "GOOGLE_API_KEY = secrets['GOOGLE_API_KEY']\n",
    "genai.configure(api_key=GOOGLE_API_KEY)\n",
    "\n",
    "model = genai.GenerativeModel('gemini-1.5-flash')"
   ]
  },
  {
   "cell_type": "code",
   "execution_count": 4,
   "metadata": {},
   "outputs": [
    {
     "data": {
      "text/plain": [
       "total_tokens: 86"
      ]
     },
     "execution_count": 4,
     "metadata": {},
     "output_type": "execute_result"
    }
   ],
   "source": [
    "model.count_tokens(\"너는 제주도의 맛집을 추천해주는 사람이야. 사용자의 질문에서 키워드를 찾고 함수를 호출하여 필요한 것을 찾아. 가정하지말고, 모르는걸 말하지마. 추천받으려 하지마. 추천 이유도 설명해\\n질문: 국수 맛있는곳 추천해봐\")"
   ]
  },
  {
   "cell_type": "code",
   "execution_count": 5,
   "metadata": {},
   "outputs": [
    {
     "name": "stdout",
     "output_type": "stream",
     "text": [
      "This is a classic sentence! It's often used as a test for fonts because it contains all 26 letters of the English alphabet.  \n",
      "\n",
      "Is there anything you'd like to do with this sentence? I can: \n",
      "\n",
      "* Analyze its grammar.\n",
      "* Tell you more about its history.\n",
      "* Create variations or write stories using it as inspiration. \n",
      "\n",
      "Let me know! 😄 \n",
      "\n"
     ]
    }
   ],
   "source": [
    "response = model.generate_content(\"The quick brown fox jumps over the lazy dog.\")\n",
    "print(response.text)\n"
   ]
  },
  {
   "cell_type": "code",
   "execution_count": 6,
   "metadata": {},
   "outputs": [
    {
     "data": {
      "text/plain": [
       "prompt_token_count: 11\n",
       "candidates_token_count: 82\n",
       "total_token_count: 93"
      ]
     },
     "execution_count": 6,
     "metadata": {},
     "output_type": "execute_result"
    }
   ],
   "source": [
    "response.usage_metadata"
   ]
  }
 ],
 "metadata": {
  "kernelspec": {
   "display_name": "llm",
   "language": "python",
   "name": "python3"
  },
  "language_info": {
   "codemirror_mode": {
    "name": "ipython",
    "version": 3
   },
   "file_extension": ".py",
   "mimetype": "text/x-python",
   "name": "python",
   "nbconvert_exporter": "python",
   "pygments_lexer": "ipython3",
   "version": "3.10.14"
  }
 },
 "nbformat": 4,
 "nbformat_minor": 2
}
